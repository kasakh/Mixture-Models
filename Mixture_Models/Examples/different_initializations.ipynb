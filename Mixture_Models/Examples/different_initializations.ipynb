{
 "cells": [
  {
   "attachments": {},
   "cell_type": "markdown",
   "id": "bbbfd77a",
   "metadata": {},
   "source": [
    "In this notebook, we illustrate how to fit GMM with different optimization routines. A similar approach can be followed for fitting other models with these optimizers."
   ]
  },
  {
   "cell_type": "code",
   "execution_count": 1,
   "id": "509aad98",
   "metadata": {},
   "outputs": [],
   "source": [
    "from Mixture_Models import *"
   ]
  },
  {
   "attachments": {},
   "cell_type": "markdown",
   "id": "1985e650",
   "metadata": {},
   "source": [
    "#### Simulating some data"
   ]
  },
  {
   "cell_type": "code",
   "execution_count": 2,
   "id": "02d386ec",
   "metadata": {},
   "outputs": [],
   "source": [
    "data = make_pinwheel(radial_std=0.3, tangential_std=0.05, num_classes=3,\n",
    "                         num_per_class=100, rate=0.4,rs=npr.RandomState(0))"
   ]
  },
  {
   "attachments": {},
   "cell_type": "markdown",
   "id": "6360d0e3",
   "metadata": {},
   "source": [
    "#### Initializing the model"
   ]
  },
  {
   "cell_type": "code",
   "execution_count": 3,
   "id": "a6309d89",
   "metadata": {},
   "outputs": [],
   "source": [
    "test_GMM = GMM(data)"
   ]
  },
  {
   "attachments": {},
   "cell_type": "markdown",
   "id": "ed59fa58",
   "metadata": {},
   "source": [
    "#### Initializing the input parameters"
   ]
  },
  {
   "cell_type": "code",
   "execution_count": 4,
   "id": "27526c87",
   "metadata": {},
   "outputs": [
    {
     "name": "stdout",
     "output_type": "stream",
     "text": [
      "{'log proportions': array([ 0.66579325,  0.35763949, -0.77270015]), 'means': array([[-0.00419192,  0.31066799],\n",
      "       [-0.36004278,  0.13275579],\n",
      "       [ 0.05427426,  0.00214572]]), 'sqrt_covs': array([[[1., 0.],\n",
      "        [0., 1.]],\n",
      "\n",
      "       [[1., 0.],\n",
      "        [0., 1.]],\n",
      "\n",
      "       [[1., 0.],\n",
      "        [0., 1.]]])}\n"
     ]
    }
   ],
   "source": [
    "npr.seed(10)\n",
    "init_params = test_GMM.init_params(num_components=3,scale=0.5)\n",
    "print(init_params)"
   ]
  },
  {
   "cell_type": "code",
   "execution_count": null,
   "id": "420493b1",
   "metadata": {},
   "outputs": [],
   "source": []
  },
  {
   "attachments": {},
   "cell_type": "markdown",
   "id": "12956b01",
   "metadata": {},
   "source": [
    "First let's see what these unpacked true parameters look like. Since the mixture proportions and covariances are reparametrized\n",
    "as described in the Readme, we show how to recover the actual parameters from their reparametrized versions."
   ]
  },
  {
   "cell_type": "code",
   "execution_count": 5,
   "id": "63e462a7",
   "metadata": {},
   "outputs": [
    {
     "name": "stdout",
     "output_type": "stream",
     "text": [
      "(array([-0.67909253, -0.98724629, -2.11758593]), array([[-0.00419192,  0.31066799],\n",
      "       [-0.36004278,  0.13275579],\n",
      "       [ 0.05427426,  0.00214572]]), array([[[1., 0.],\n",
      "        [0., 1.]],\n",
      "\n",
      "       [[1., 0.],\n",
      "        [0., 1.]],\n",
      "\n",
      "       [[1., 0.],\n",
      "        [0., 1.]]]))\n"
     ]
    }
   ],
   "source": [
    "print(test_GMM.unpack_params(init_params))"
   ]
  },
  {
   "attachments": {},
   "cell_type": "markdown",
   "id": "dc5945dc",
   "metadata": {},
   "source": [
    "###### Recovering the mixture proportions"
   ]
  },
  {
   "cell_type": "code",
   "execution_count": 6,
   "id": "25e55e55",
   "metadata": {},
   "outputs": [
    {
     "name": "stdout",
     "output_type": "stream",
     "text": [
      "[0.50707694 0.37260131 0.12032174]\n",
      "[0.50707694 0.37260131 0.12032174]\n"
     ]
    }
   ],
   "source": [
    "# To recover the actual mixture proportions\n",
    "print(np.exp(test_GMM.log_normalize(init_params['log proportions'])))\n",
    "# Alternately\n",
    "print(np.exp(test_GMM.unpack_params(init_params)[0] ))"
   ]
  },
  {
   "cell_type": "code",
   "execution_count": 7,
   "id": "11c3d525",
   "metadata": {},
   "outputs": [
    {
     "name": "stdout",
     "output_type": "stream",
     "text": [
      "[0.1 0.2 0.7]\n"
     ]
    }
   ],
   "source": [
    "# Input a custom mixture proportion say [0.1,0.2,0.7]\n",
    "init_params['log proportions'] = np.log([0.1,0.2,0.7]) # i.e. we input the log proportions\n",
    "print(np.exp(test_GMM.log_normalize(init_params['log proportions']))) ## Test if we recover our input proportions."
   ]
  },
  {
   "cell_type": "code",
   "execution_count": null,
   "id": "55e1c8e2",
   "metadata": {},
   "outputs": [],
   "source": []
  },
  {
   "attachments": {},
   "cell_type": "markdown",
   "id": "1e521826",
   "metadata": {},
   "source": [
    "###### Recovering the covariance matrices"
   ]
  },
  {
   "cell_type": "code",
   "execution_count": 8,
   "id": "634cb850",
   "metadata": {},
   "outputs": [
    {
     "name": "stdout",
     "output_type": "stream",
     "text": [
      "[array([[1., 0.],\n",
      "       [0., 1.]]), array([[1., 0.],\n",
      "       [0., 1.]]), array([[1., 0.],\n",
      "       [0., 1.]])]\n"
     ]
    }
   ],
   "source": [
    "# To recover the covariance matrices from their square roots\n",
    "cov = []\n",
    "for log_proportion, mean, cov_sqrt in zip(*test_GMM.unpack_params(init_params)):\n",
    "    cov.append(cov_sqrt.T @ cov_sqrt)\n",
    "print(cov)"
   ]
  },
  {
   "cell_type": "code",
   "execution_count": null,
   "id": "fa0d9c44",
   "metadata": {},
   "outputs": [],
   "source": []
  },
  {
   "cell_type": "code",
   "execution_count": 9,
   "id": "c921e83f",
   "metadata": {},
   "outputs": [
    {
     "name": "stdout",
     "output_type": "stream",
     "text": [
      "[array([[ 4.  , -0.75],\n",
      "       [-0.75,  1.  ]]), array([[1., 0.],\n",
      "       [0., 1.]]), array([[1., 0.],\n",
      "       [0., 1.]])]\n"
     ]
    }
   ],
   "source": [
    "# Say we want to the first component's initialized covariance as [[4,-0.5],[-0.5,1]]\n",
    "from scipy.linalg import sqrtm\n",
    "init_params['sqrt_covs'][0] = sqrtm([[4,-0.75],[-0.75,1]]) ## Input our custom covariance using the reparametrization A^T*A = Covariance\n",
    "#Crosscheck if the covariance is changing\n",
    "cov = []\n",
    "for log_proportion, mean, cov_sqrt in zip(*test_GMM.unpack_params(init_params)):\n",
    "    cov.append(cov_sqrt.T @ cov_sqrt)\n",
    "print(cov)"
   ]
  },
  {
   "cell_type": "code",
   "execution_count": null,
   "id": "c7ab7d98",
   "metadata": {},
   "outputs": [],
   "source": []
  },
  {
   "attachments": {},
   "cell_type": "markdown",
   "id": "0e465f98",
   "metadata": {},
   "source": [
    "#### Fitting the model with the above initialization parameters"
   ]
  },
  {
   "attachments": {},
   "cell_type": "markdown",
   "id": "c64ad4cb",
   "metadata": {},
   "source": [
    "Gradient Descent with momentum"
   ]
  },
  {
   "cell_type": "code",
   "execution_count": 10,
   "id": "69aa76c0",
   "metadata": {
    "scrolled": true
   },
   "outputs": [
    {
     "name": "stdout",
     "output_type": "stream",
     "text": [
      "Log likelihood -722.4161069308387\n",
      "Log likelihood -721.1705366046117\n",
      "Log likelihood -718.8246652036032\n",
      "Log likelihood -715.5301044696276\n",
      "Log likelihood -711.447179403069\n",
      "Log likelihood -706.7491006708486\n",
      "Log likelihood -701.6268869728219\n",
      "Log likelihood -696.2938895297725\n",
      "Log likelihood -690.9882711143798\n",
      "Log likelihood -685.9709407902037\n",
      "Log likelihood -681.5154284034992\n",
      "Log likelihood -677.8855644750276\n",
      "Log likelihood -675.2978406413845\n",
      "Log likelihood -673.8698345270402\n",
      "Log likelihood -673.5654534230541\n",
      "Log likelihood -674.1598789846468\n",
      "Log likelihood -675.2534205513352\n",
      "Log likelihood -676.3518710435866\n",
      "Log likelihood -676.9982189288902\n",
      "Log likelihood -676.904272079762\n",
      "Log likelihood -676.0209669724117\n",
      "Log likelihood -674.5169305331922\n",
      "Log likelihood -672.6854863454756\n",
      "Log likelihood -670.8326365146306\n",
      "Log likelihood -669.1938018253461\n",
      "Log likelihood -667.8987744414289\n",
      "Log likelihood -666.9776100087684\n",
      "Log likelihood -666.3885341891558\n",
      "Log likelihood -666.0505839797341\n",
      "Log likelihood -665.8708594336703\n",
      "Log likelihood -665.7629425840812\n",
      "Log likelihood -665.657035942249\n",
      "Log likelihood -665.5039190167115\n",
      "Log likelihood -665.2749204911306\n",
      "Log likelihood -664.959616954322\n",
      "Log likelihood -664.5623908722177\n",
      "Log likelihood -664.0985170626386\n",
      "Log likelihood -663.5901463938926\n",
      "Log likelihood -663.0623996813022\n",
      "Log likelihood -662.5397356710057\n",
      "Log likelihood -662.0427729866942\n",
      "Log likelihood -661.5857849488541\n",
      "Log likelihood -661.1751063187493\n",
      "Log likelihood -660.8086548686904\n",
      "Log likelihood -660.4766557367025\n",
      "Log likelihood -660.163468185709\n",
      "Log likelihood -659.8501934031067\n",
      "Log likelihood -659.5175572236267\n",
      "Log likelihood -659.1484852654794\n",
      "Log likelihood -658.7298614986704\n",
      "Log likelihood -658.2531711361524\n",
      "Log likelihood -657.7140073450696\n",
      "Log likelihood -657.1106757657969\n",
      "Log likelihood -656.4422839506485\n",
      "Log likelihood -655.7067229558725\n",
      "Log likelihood -654.8988541493202\n",
      "Log likelihood -654.0090565627856\n",
      "Log likelihood -653.022124518549\n",
      "Log likelihood -651.9163716597079\n",
      "Log likelihood -650.6627126413739\n",
      "Log likelihood -649.2234560253905\n",
      "Log likelihood -647.550543015614\n",
      "Log likelihood -645.5830046823613\n",
      "Log likelihood -643.2435014752813\n",
      "Log likelihood -640.4339908783684\n",
      "Log likelihood -637.0308696772784\n",
      "Log likelihood -632.880218994698\n",
      "Log likelihood -627.7932642903107\n",
      "Log likelihood -621.5387267161337\n",
      "Log likelihood -613.8219034106861\n",
      "Log likelihood -604.2525065064281\n",
      "Log likelihood -592.4191152904286\n",
      "Log likelihood -578.6092765062581\n",
      "Log likelihood -564.781800352597\n",
      "Log likelihood -551.7068977416628\n",
      "Log likelihood -539.2281382705164\n",
      "Log likelihood -526.1107634680234\n",
      "Log likelihood -508.57935790013426\n",
      "Log likelihood -508.91504408729486\n",
      "Log likelihood -526.9890187051262\n",
      "Log likelihood -521.6843277492043\n",
      "Log likelihood -523.8644843568657\n",
      "Log likelihood -525.027828637531\n",
      "Log likelihood -521.3739113752308\n",
      "Log likelihood -512.240152414643\n",
      "Log likelihood -501.10896787942\n",
      "Log likelihood -499.6536567575754\n",
      "Log likelihood -483.88405584890074\n",
      "Log likelihood -484.84603609592466\n",
      "Log likelihood -490.0158633626793\n",
      "Log likelihood -490.0508059051898\n",
      "Log likelihood -486.26622685241443\n",
      "Log likelihood -479.6907611816481\n",
      "Log likelihood -471.71875913315944\n",
      "Log likelihood -478.2660714791054\n",
      "Log likelihood -476.9159879187904\n",
      "Log likelihood -477.2691094932587\n",
      "Log likelihood -474.72516208811453\n",
      "Log likelihood -477.1451741458267\n",
      "Log likelihood -470.3780379639444\n"
     ]
    }
   ],
   "source": [
    "params_store = test_GMM.fit(init_params,opt_routine = \"grad_descent\", learning_rate = 0.0005, mass = 0.9, maxiter = 100, tol = 1e-7) "
   ]
  },
  {
   "cell_type": "code",
   "execution_count": null,
   "id": "abb3ef79",
   "metadata": {},
   "outputs": [],
   "source": []
  },
  {
   "cell_type": "code",
   "execution_count": null,
   "id": "61e7de75",
   "metadata": {},
   "outputs": [],
   "source": []
  },
  {
   "cell_type": "code",
   "execution_count": null,
   "id": "c6c5eafd",
   "metadata": {},
   "outputs": [],
   "source": []
  }
 ],
 "metadata": {
  "kernelspec": {
   "display_name": "Python 3",
   "language": "python",
   "name": "python3"
  },
  "language_info": {
   "codemirror_mode": {
    "name": "ipython",
    "version": 3
   },
   "file_extension": ".py",
   "mimetype": "text/x-python",
   "name": "python",
   "nbconvert_exporter": "python",
   "pygments_lexer": "ipython3",
   "version": "3.7.9"
  }
 },
 "nbformat": 4,
 "nbformat_minor": 5
}
